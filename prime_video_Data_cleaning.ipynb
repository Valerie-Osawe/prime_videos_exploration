{
  "cells": [
    {
      "cell_type": "markdown",
      "metadata": {
        "id": "view-in-github",
        "colab_type": "text"
      },
      "source": [
        "<a href=\"https://colab.research.google.com/github/Valerie-Osawe/prime_videos_exploration/blob/main/prime_video_Data_cleaning.ipynb\" target=\"_parent\"><img src=\"https://colab.research.google.com/assets/colab-badge.svg\" alt=\"Open In Colab\"/></a>"
      ]
    },
    {
      "cell_type": "markdown",
      "id": "d25a6fd0-6eac-450b-b885-2324acf94092",
      "metadata": {
        "jp-MarkdownHeadingCollapsed": true,
        "tags": [],
        "id": "d25a6fd0-6eac-450b-b885-2324acf94092"
      },
      "source": [
        "![Amazon_Prime_Video_tips_1.webp](data:image/webp;base64,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)"
      ]
    },
    {
      "cell_type": "markdown",
      "id": "7b41290a-a03c-4745-9d06-87fb5b6ae15e",
      "metadata": {
        "id": "7b41290a-a03c-4745-9d06-87fb5b6ae15e"
      },
      "source": [
        "### Data Cleaning"
      ]
    },
    {
      "cell_type": "markdown",
      "id": "c53f300a-23d0-4697-9db7-cfee8e76a7a7",
      "metadata": {
        "id": "c53f300a-23d0-4697-9db7-cfee8e76a7a7"
      },
      "source": [
        "<a id='intro'></a>\n",
        "#### Introduction\n",
        "\n",
        "#### Amazon Prime Video - TV Shows and Movies\n",
        "This dataset was created to list all shows and movies available on Amazon Prime. It was collected from JustWatch in March 2023, containing data available in the United States.\n",
        "\n",
        "Content\n",
        "This dataset contains two files, one for the titles (titles.csv) and the other for the cast (credits.csv) of each movie and show on the platform.\n",
        "\n",
        "The titles.csv contains more than 10k titles, witch 15 columns containing:\n",
        "\n",
        "- id: The title ID on JustWatch.\n",
        "- title: The name of the title.\n",
        "- show_type: TV show or movie.\n",
        "- description: A brief description.\n",
        "- release_year: The release year.\n",
        "- age_certification: The age certification.\n",
        "- runtime: The length of the episode (SHOW) or movie.\n",
        "- genres: A list of genres.\n",
        "- production_countries: A list of countries that - produced the title.\n",
        "- seasons: Number of seasons if it's a SHOW.\n",
        "- imdb_id: The title ID on IMDB.\n",
        "- imdb_score: Score on IMDB.\n",
        "- imdb_votes: Votes on IMDB.\n",
        "- tmdb_popularity: Popularity on TMDB.\n",
        "- tmdb_score: Score on TMDB.\n",
        "\n",
        "The credits.csv contains over 140k credits of actors and directors, with 5 columns containing:\n",
        "\n",
        "- person_ID: The person ID on JustWatch.\n",
        "- id: The title ID on JustWatch.\n",
        "- name: The actor or director's name.\n",
        "- character: The character name.\n",
        "- role: ACTOR or DIRECTOR.\n",
        "\n",
        "  ##### Objective\n",
        "  \n",
        "  Clean the datasets for exploratory data analysis"
      ]
    },
    {
      "cell_type": "markdown",
      "id": "4c0dbae4-4245-46fd-8a50-c82bb397f152",
      "metadata": {
        "id": "4c0dbae4-4245-46fd-8a50-c82bb397f152"
      },
      "source": [
        "#### Imports"
      ]
    },
    {
      "cell_type": "code",
      "execution_count": null,
      "id": "02438221-3de3-4811-b22e-cfcb6a00da54",
      "metadata": {
        "id": "02438221-3de3-4811-b22e-cfcb6a00da54"
      },
      "outputs": [],
      "source": [
        "# Built-in library\n",
        "import itertools\n",
        "\n",
        "# Standard imports\n",
        "import numpy as np\n",
        "import pandas as pd\n",
        "\n",
        "\n",
        "import matplotlib.pyplot as plt\n",
        "import missingno as msno\n",
        "\n",
        "%matplotlib inline\n",
        "\n",
        "# pandas settings\n",
        "pd.options.display.max_rows = 1_000\n",
        "pd.options.display.max_columns = 1_000\n",
        "pd.options.display.max_colwidth = 1_000\n",
        "\n",
        "\n",
        "# Black code formatter\n",
        "%load_ext lab_black"
      ]
    },
    {
      "cell_type": "code",
      "execution_count": null,
      "id": "6d52ec71-3283-422c-a792-ec1c31281d0b",
      "metadata": {
        "id": "6d52ec71-3283-422c-a792-ec1c31281d0b"
      },
      "outputs": [],
      "source": [
        "# load data\n",
        "credit = pd.read_csv(\"credits.csv\")\n",
        "title = pd.read_csv(\"titles.csv\")"
      ]
    },
    {
      "cell_type": "markdown",
      "id": "d7c54f4c-d1ed-41ba-8d09-6b919661cda9",
      "metadata": {
        "id": "d7c54f4c-d1ed-41ba-8d09-6b919661cda9"
      },
      "source": [
        "##### Clean the credit csv"
      ]
    },
    {
      "cell_type": "code",
      "execution_count": null,
      "id": "270c862d-c223-44a9-bd38-9fb79851087d",
      "metadata": {
        "id": "270c862d-c223-44a9-bd38-9fb79851087d",
        "outputId": "e878b4ed-4526-40d6-e8f8-09f9838aab40"
      },
      "outputs": [
        {
          "data": {
            "text/html": [
              "<div>\n",
              "<style scoped>\n",
              "    .dataframe tbody tr th:only-of-type {\n",
              "        vertical-align: middle;\n",
              "    }\n",
              "\n",
              "    .dataframe tbody tr th {\n",
              "        vertical-align: top;\n",
              "    }\n",
              "\n",
              "    .dataframe thead th {\n",
              "        text-align: right;\n",
              "    }\n",
              "</style>\n",
              "<table border=\"1\" class=\"dataframe\">\n",
              "  <thead>\n",
              "    <tr style=\"text-align: right;\">\n",
              "      <th></th>\n",
              "      <th>person_id</th>\n",
              "      <th>id</th>\n",
              "      <th>name</th>\n",
              "      <th>character</th>\n",
              "      <th>role</th>\n",
              "    </tr>\n",
              "  </thead>\n",
              "  <tbody>\n",
              "    <tr>\n",
              "      <th>0</th>\n",
              "      <td>25020</td>\n",
              "      <td>tm87233</td>\n",
              "      <td>James Stewart</td>\n",
              "      <td>George Bailey</td>\n",
              "      <td>ACTOR</td>\n",
              "    </tr>\n",
              "    <tr>\n",
              "      <th>1</th>\n",
              "      <td>26190</td>\n",
              "      <td>tm87233</td>\n",
              "      <td>Donna Reed</td>\n",
              "      <td>Mary Hatch</td>\n",
              "      <td>ACTOR</td>\n",
              "    </tr>\n",
              "    <tr>\n",
              "      <th>2</th>\n",
              "      <td>25653</td>\n",
              "      <td>tm87233</td>\n",
              "      <td>Lionel Barrymore</td>\n",
              "      <td>Mr. Potter</td>\n",
              "      <td>ACTOR</td>\n",
              "    </tr>\n",
              "    <tr>\n",
              "      <th>3</th>\n",
              "      <td>13301</td>\n",
              "      <td>tm87233</td>\n",
              "      <td>Thomas Mitchell</td>\n",
              "      <td>Uncle Billy</td>\n",
              "      <td>ACTOR</td>\n",
              "    </tr>\n",
              "    <tr>\n",
              "      <th>4</th>\n",
              "      <td>34171</td>\n",
              "      <td>tm87233</td>\n",
              "      <td>Henry Travers</td>\n",
              "      <td>Clarence</td>\n",
              "      <td>ACTOR</td>\n",
              "    </tr>\n",
              "  </tbody>\n",
              "</table>\n",
              "</div>"
            ],
            "text/plain": [
              "   person_id       id              name      character   role\n",
              "0      25020  tm87233     James Stewart  George Bailey  ACTOR\n",
              "1      26190  tm87233        Donna Reed     Mary Hatch  ACTOR\n",
              "2      25653  tm87233  Lionel Barrymore     Mr. Potter  ACTOR\n",
              "3      13301  tm87233   Thomas Mitchell    Uncle Billy  ACTOR\n",
              "4      34171  tm87233     Henry Travers       Clarence  ACTOR"
            ]
          },
          "execution_count": 3,
          "metadata": {},
          "output_type": "execute_result"
        }
      ],
      "source": [
        "credit.head()"
      ]
    },
    {
      "cell_type": "markdown",
      "id": "75ab8eac-5cd8-47cd-864d-b3bd64974fac",
      "metadata": {
        "id": "75ab8eac-5cd8-47cd-864d-b3bd64974fac"
      },
      "source": [
        "Rename the person id and id to id and title id respectively for uniformity with the title csv"
      ]
    },
    {
      "cell_type": "code",
      "execution_count": null,
      "id": "a03880e3-0e17-4b5c-82aa-bd34acb8ceb5",
      "metadata": {
        "id": "a03880e3-0e17-4b5c-82aa-bd34acb8ceb5",
        "outputId": "fc6016f0-b3f8-439b-d64f-ecff11d7f657"
      },
      "outputs": [
        {
          "data": {
            "text/plain": [
              "Index(['id', 'title_id', 'name', 'character', 'role'], dtype='object')"
            ]
          },
          "execution_count": 4,
          "metadata": {},
          "output_type": "execute_result"
        }
      ],
      "source": [
        "# rename person id to id and id to title id\n",
        "credit = credit.rename(columns={\"person_id\": \"id\", \"id\": \"title_id\"})\n",
        "credit.columns"
      ]
    },
    {
      "cell_type": "code",
      "execution_count": null,
      "id": "d1327a4d-c933-4145-b972-ae317b5c271d",
      "metadata": {
        "id": "d1327a4d-c933-4145-b972-ae317b5c271d",
        "outputId": "0ff6c663-2a49-49c4-fecd-2c0f742139af"
      },
      "outputs": [
        {
          "name": "stdout",
          "output_type": "stream",
          "text": [
            "<class 'pandas.core.frame.DataFrame'>\n",
            "RangeIndex: 140553 entries, 0 to 140552\n",
            "Data columns (total 5 columns):\n",
            " #   Column     Non-Null Count   Dtype \n",
            "---  ------     --------------   ----- \n",
            " 0   id         140553 non-null  int64 \n",
            " 1   title_id   140553 non-null  object\n",
            " 2   name       140553 non-null  object\n",
            " 3   character  122705 non-null  object\n",
            " 4   role       140553 non-null  object\n",
            "dtypes: int64(1), object(4)\n",
            "memory usage: 5.4+ MB\n"
          ]
        }
      ],
      "source": [
        "credit.info()"
      ]
    },
    {
      "cell_type": "code",
      "execution_count": null,
      "id": "6b8802ca-c50a-49a5-8634-80ba07c1038a",
      "metadata": {
        "id": "6b8802ca-c50a-49a5-8634-80ba07c1038a",
        "outputId": "620e28c7-deb8-435a-9bbf-2cba3d40be8e"
      },
      "outputs": [
        {
          "name": "stdout",
          "output_type": "stream",
          "text": [
            "0\n"
          ]
        }
      ],
      "source": [
        "# check for duplicates\n",
        "duplicate = credit.duplicated().any().sum()\n",
        "print(duplicate)"
      ]
    },
    {
      "cell_type": "code",
      "execution_count": null,
      "id": "3cd7fe3e-3598-439f-a209-59b24ba60468",
      "metadata": {
        "id": "3cd7fe3e-3598-439f-a209-59b24ba60468",
        "outputId": "ea430f01-fcb6-4cfe-ee60-bc90bdd3b734"
      },
      "outputs": [
        {
          "data": {
            "image/png": "[encoded data removed]",
            "text/plain": [
              "<Figure size 720x576 with 3 Axes>"
            ]
          },
          "metadata": {
            "needs_background": "light"
          },
          "output_type": "display_data"
        }
      ],
      "source": [
        "# plot the missing values in credit dataset with bar chart\n",
        "fig, ax = plt.subplots(figsize=(10, 8))\n",
        "ax.set_title(\"Distribution of Missing Values\", fontsize=15)\n",
        "ax.set_xlabel(\"Columns\", fontsize=14)\n",
        "ax.set_ylabel(\"Percentage non-null values\", fontsize=14)\n",
        "msno.bar(credit, ax=ax, color=(0.69, 0.23, 0.42), fontsize=12)\n",
        "plt.show()"
      ]
    },
    {
      "cell_type": "markdown",
      "id": "75284c4a-2054-4306-890a-000f35338811",
      "metadata": {
        "id": "75284c4a-2054-4306-890a-000f35338811"
      },
      "source": [
        "From the plot above it can be seen about 0.1 of the characters rows are missing."
      ]
    },
    {
      "cell_type": "code",
      "execution_count": null,
      "id": "e0c019bc-c113-4577-a888-2212228c4606",
      "metadata": {
        "id": "e0c019bc-c113-4577-a888-2212228c4606",
        "outputId": "8b89e4c0-12ff-4042-9e43-712f976b95d6"
      },
      "outputs": [
        {
          "data": {
            "text/plain": [
              "ACTOR       131164\n",
              "DIRECTOR      9389\n",
              "Name: role, dtype: int64"
            ]
          },
          "execution_count": 8,
          "metadata": {},
          "output_type": "execute_result"
        }
      ],
      "source": [
        "credit.role.value_counts()"
      ]
    },
    {
      "cell_type": "markdown",
      "id": "08374945-8264-463d-b23d-74dbc357289a",
      "metadata": {
        "id": "08374945-8264-463d-b23d-74dbc357289a"
      },
      "source": [
        "It can be seen that most of the role in the movies/shows are actors. More investigation needs to be carried out to find out if the missing values in the character column are from the directors as they usually do not play any character in movies or shows "
      ]
    },
    {
      "cell_type": "code",
      "execution_count": null,
      "id": "78ee1e2c-d716-48df-a2d9-2bc4b107469b",
      "metadata": {
        "id": "78ee1e2c-d716-48df-a2d9-2bc4b107469b",
        "outputId": "d3eb817e-935f-46eb-ee7f-4e67af41b7cd"
      },
      "outputs": [
        {
          "data": {
            "text/plain": [
              "False"
            ]
          },
          "execution_count": 9,
          "metadata": {},
          "output_type": "execute_result"
        }
      ],
      "source": [
        "# check if the missing values in character are from director\n",
        "credit.query(\"character != character & role != 'DIRECTOR'\").shape[\n",
        "    0\n",
        "] == credit.character.isna().sum()"
      ]
    },
    {
      "cell_type": "markdown",
      "id": "f9d3ced8-799a-40c7-a3f0-9499463022e7",
      "metadata": {
        "id": "f9d3ced8-799a-40c7-a3f0-9499463022e7"
      },
      "source": [
        "After checking to know if the if the missing values in the character column are from the directors, it can be seen that the missing values are not only from the directors. Therefore the missing values not from directors will be dropped, while the missing values from directors will be replaced with 'NOT A CHARACTER'."
      ]
    },
    {
      "cell_type": "code",
      "execution_count": null,
      "id": "c876dc99-13bb-473d-9920-54205a74493e",
      "metadata": {
        "id": "c876dc99-13bb-473d-9920-54205a74493e",
        "outputId": "c3178e63-7dd7-4d76-d5af-049f1bd7ed73"
      },
      "outputs": [
        {
          "data": {
            "text/html": [
              "<div>\n",
              "<style scoped>\n",
              "    .dataframe tbody tr th:only-of-type {\n",
              "        vertical-align: middle;\n",
              "    }\n",
              "\n",
              "    .dataframe tbody tr th {\n",
              "        vertical-align: top;\n",
              "    }\n",
              "\n",
              "    .dataframe thead th {\n",
              "        text-align: right;\n",
              "    }\n",
              "</style>\n",
              "<table border=\"1\" class=\"dataframe\">\n",
              "  <thead>\n",
              "    <tr style=\"text-align: right;\">\n",
              "      <th></th>\n",
              "      <th>id</th>\n",
              "      <th>title_id</th>\n",
              "      <th>name</th>\n",
              "      <th>character</th>\n",
              "      <th>role</th>\n",
              "    </tr>\n",
              "  </thead>\n",
              "  <tbody>\n",
              "    <tr>\n",
              "      <th>0</th>\n",
              "      <td>25020</td>\n",
              "      <td>tm87233</td>\n",
              "      <td>James Stewart</td>\n",
              "      <td>George Bailey</td>\n",
              "      <td>ACTOR</td>\n",
              "    </tr>\n",
              "    <tr>\n",
              "      <th>1</th>\n",
              "      <td>26190</td>\n",
              "      <td>tm87233</td>\n",
              "      <td>Donna Reed</td>\n",
              "      <td>Mary Hatch</td>\n",
              "      <td>ACTOR</td>\n",
              "    </tr>\n",
              "    <tr>\n",
              "      <th>2</th>\n",
              "      <td>25653</td>\n",
              "      <td>tm87233</td>\n",
              "      <td>Lionel Barrymore</td>\n",
              "      <td>Mr. Potter</td>\n",
              "      <td>ACTOR</td>\n",
              "    </tr>\n",
              "    <tr>\n",
              "      <th>3</th>\n",
              "      <td>13301</td>\n",
              "      <td>tm87233</td>\n",
              "      <td>Thomas Mitchell</td>\n",
              "      <td>Uncle Billy</td>\n",
              "      <td>ACTOR</td>\n",
              "    </tr>\n",
              "    <tr>\n",
              "      <th>4</th>\n",
              "      <td>34171</td>\n",
              "      <td>tm87233</td>\n",
              "      <td>Henry Travers</td>\n",
              "      <td>Clarence</td>\n",
              "      <td>ACTOR</td>\n",
              "    </tr>\n",
              "  </tbody>\n",
              "</table>\n",
              "</div>"
            ],
            "text/plain": [
              "      id title_id              name      character   role\n",
              "0  25020  tm87233     James Stewart  George Bailey  ACTOR\n",
              "1  26190  tm87233        Donna Reed     Mary Hatch  ACTOR\n",
              "2  25653  tm87233  Lionel Barrymore     Mr. Potter  ACTOR\n",
              "3  13301  tm87233   Thomas Mitchell    Uncle Billy  ACTOR\n",
              "4  34171  tm87233     Henry Travers       Clarence  ACTOR"
            ]
          },
          "execution_count": 10,
          "metadata": {},
          "output_type": "execute_result"
        }
      ],
      "source": [
        "drop_na = credit.query(\"character != character & role != 'DIRECTOR'\")\n",
        "credit = credit.drop(drop_na.index)\n",
        "credit.head()"
      ]
    },
    {
      "cell_type": "code",
      "execution_count": null,
      "id": "3f9e551f-422a-4891-a1e9-40d429528c70",
      "metadata": {
        "id": "3f9e551f-422a-4891-a1e9-40d429528c70",
        "outputId": "734ed11b-eecc-4c7e-ad38-222072295e0f"
      },
      "outputs": [
        {
          "data": {
            "text/html": [
              "<div>\n",
              "<style scoped>\n",
              "    .dataframe tbody tr th:only-of-type {\n",
              "        vertical-align: middle;\n",
              "    }\n",
              "\n",
              "    .dataframe tbody tr th {\n",
              "        vertical-align: top;\n",
              "    }\n",
              "\n",
              "    .dataframe thead th {\n",
              "        text-align: right;\n",
              "    }\n",
              "</style>\n",
              "<table border=\"1\" class=\"dataframe\">\n",
              "  <thead>\n",
              "    <tr style=\"text-align: right;\">\n",
              "      <th></th>\n",
              "      <th>id</th>\n",
              "      <th>title_id</th>\n",
              "      <th>name</th>\n",
              "      <th>character</th>\n",
              "      <th>role</th>\n",
              "    </tr>\n",
              "  </thead>\n",
              "  <tbody>\n",
              "    <tr>\n",
              "      <th>114743</th>\n",
              "      <td>228516</td>\n",
              "      <td>tm818538</td>\n",
              "      <td>Johnpaul George</td>\n",
              "      <td>Not A Character</td>\n",
              "      <td>DIRECTOR</td>\n",
              "    </tr>\n",
              "    <tr>\n",
              "      <th>44471</th>\n",
              "      <td>38870</td>\n",
              "      <td>tm455118</td>\n",
              "      <td>Anne Francis</td>\n",
              "      <td>Catherine Pritcher</td>\n",
              "      <td>ACTOR</td>\n",
              "    </tr>\n",
              "    <tr>\n",
              "      <th>48847</th>\n",
              "      <td>1075336</td>\n",
              "      <td>ts30508</td>\n",
              "      <td>Yael Eitan</td>\n",
              "      <td>Dana</td>\n",
              "      <td>ACTOR</td>\n",
              "    </tr>\n",
              "    <tr>\n",
              "      <th>138293</th>\n",
              "      <td>291002</td>\n",
              "      <td>tm936394</td>\n",
              "      <td>Ayris Alptekin</td>\n",
              "      <td>Zehra</td>\n",
              "      <td>ACTOR</td>\n",
              "    </tr>\n",
              "    <tr>\n",
              "      <th>68692</th>\n",
              "      <td>36324</td>\n",
              "      <td>tm69176</td>\n",
              "      <td>Jonathan Klein</td>\n",
              "      <td>Dave Ross</td>\n",
              "      <td>ACTOR</td>\n",
              "    </tr>\n",
              "    <tr>\n",
              "      <th>93072</th>\n",
              "      <td>25322</td>\n",
              "      <td>tm322148</td>\n",
              "      <td>Jonah Russell</td>\n",
              "      <td>Pete</td>\n",
              "      <td>ACTOR</td>\n",
              "    </tr>\n",
              "    <tr>\n",
              "      <th>130180</th>\n",
              "      <td>5358</td>\n",
              "      <td>tm458118</td>\n",
              "      <td>Michael B. Jordan</td>\n",
              "      <td>John Kelly</td>\n",
              "      <td>ACTOR</td>\n",
              "    </tr>\n",
              "    <tr>\n",
              "      <th>11048</th>\n",
              "      <td>27335</td>\n",
              "      <td>tm95443</td>\n",
              "      <td>Carl Stockdale</td>\n",
              "      <td>Charles Brandon</td>\n",
              "      <td>ACTOR</td>\n",
              "    </tr>\n",
              "    <tr>\n",
              "      <th>129847</th>\n",
              "      <td>33814</td>\n",
              "      <td>tm817412</td>\n",
              "      <td>Thierry Lhermitte</td>\n",
              "      <td>Yves Lamarque</td>\n",
              "      <td>ACTOR</td>\n",
              "    </tr>\n",
              "    <tr>\n",
              "      <th>84619</th>\n",
              "      <td>99165</td>\n",
              "      <td>tm147658</td>\n",
              "      <td>Frédéric Tcheng</td>\n",
              "      <td>Not A Character</td>\n",
              "      <td>DIRECTOR</td>\n",
              "    </tr>\n",
              "  </tbody>\n",
              "</table>\n",
              "</div>"
            ],
            "text/plain": [
              "             id  title_id               name           character      role\n",
              "114743   228516  tm818538    Johnpaul George     Not A Character  DIRECTOR\n",
              "44471     38870  tm455118       Anne Francis  Catherine Pritcher     ACTOR\n",
              "48847   1075336   ts30508         Yael Eitan                Dana     ACTOR\n",
              "138293   291002  tm936394     Ayris Alptekin               Zehra     ACTOR\n",
              "68692     36324   tm69176     Jonathan Klein           Dave Ross     ACTOR\n",
              "93072     25322  tm322148      Jonah Russell                Pete     ACTOR\n",
              "130180     5358  tm458118  Michael B. Jordan          John Kelly     ACTOR\n",
              "11048     27335   tm95443     Carl Stockdale     Charles Brandon     ACTOR\n",
              "129847    33814  tm817412  Thierry Lhermitte       Yves Lamarque     ACTOR\n",
              "84619     99165  tm147658    Frédéric Tcheng     Not A Character  DIRECTOR"
            ]
          },
          "execution_count": 11,
          "metadata": {},
          "output_type": "execute_result"
        }
      ],
      "source": [
        "credit.character.fillna(\"Not A Character\", inplace=True)\n",
        "credit.sample(10)"
      ]
    },
    {
      "cell_type": "code",
      "execution_count": null,
      "id": "3e131db7-8f98-4c1d-8bee-fbda4270bb9d",
      "metadata": {
        "id": "3e131db7-8f98-4c1d-8bee-fbda4270bb9d",
        "outputId": "b53d1cd7-f973-4cce-c07f-e1834de79bb9"
      },
      "outputs": [
        {
          "name": "stdout",
          "output_type": "stream",
          "text": [
            "<class 'pandas.core.frame.DataFrame'>\n",
            "Int64Index: 132094 entries, 0 to 140552\n",
            "Data columns (total 5 columns):\n",
            " #   Column     Non-Null Count   Dtype \n",
            "---  ------     --------------   ----- \n",
            " 0   id         132094 non-null  int64 \n",
            " 1   title_id   132094 non-null  object\n",
            " 2   name       132094 non-null  object\n",
            " 3   character  132094 non-null  object\n",
            " 4   role       132094 non-null  object\n",
            "dtypes: int64(1), object(4)\n",
            "memory usage: 6.0+ MB\n"
          ]
        }
      ],
      "source": [
        "credit.info()"
      ]
    },
    {
      "cell_type": "markdown",
      "id": "055d37af-b5b1-4807-98fc-0083bc5be31f",
      "metadata": {
        "id": "055d37af-b5b1-4807-98fc-0083bc5be31f"
      },
      "source": [
        "Further investigaion shows the that the character column has voice in it. It will be better to remove that from the character column and add it to the role column to indicate that the actor was a voice actor."
      ]
    },
    {
      "cell_type": "code",
      "execution_count": null,
      "id": "4434cfea-d531-4b87-8e87-8fc5ad0d9885",
      "metadata": {
        "id": "4434cfea-d531-4b87-8e87-8fc5ad0d9885",
        "outputId": "a2ca3712-6d31-418a-c762-eb026920088a"
      },
      "outputs": [
        {
          "name": "stdout",
          "output_type": "stream",
          "text": [
            "          id  title_id                      name                   character  \\\n",
            "70     63894   tm87233             Joseph Granby   Elderly Man  (uncredited)   \n",
            "98      6144   tm87233              Moroni Olsen  Senior Angel  (uncredited)   \n",
            "501   571172   tm83723             Kenny Gardner                       Dick    \n",
            "502   571171   tm83723             Gwen Williams                       Mary    \n",
            "503   104794   tm83723               Jack Mercer                 Mr. Bumble    \n",
            "504   132987   tm83723               Tedd Pierce           C. Bagley Beetle    \n",
            "505   571169   tm83723                Stan Freed                    Hoppity    \n",
            "506   569092   tm83723                Carl Meyer                      Smack    \n",
            "509    62979   tm83723  Guinn \"Big Boy\" Williams      Narrator  (uncredited)   \n",
            "1344   14704  tm165135              Claude Rains  Jacob Marley  (uncredited)   \n",
            "\n",
            "              role  \n",
            "70    ACTOR(voice)  \n",
            "98    ACTOR(voice)  \n",
            "501   ACTOR(voice)  \n",
            "502   ACTOR(voice)  \n",
            "503   ACTOR(voice)  \n",
            "504   ACTOR(voice)  \n",
            "505   ACTOR(voice)  \n",
            "506   ACTOR(voice)  \n",
            "509   ACTOR(voice)  \n",
            "1344  ACTOR(voice)  \n"
          ]
        }
      ],
      "source": [
        "# Append voice to the 'role' column if the 'character' column contains voice\n",
        "credit.loc[\n",
        "    credit[\"character\"].str.contains(\"(voice)\", regex=False), \"role\"\n",
        "] += \"(voice)\"\n",
        "# remove the voice from the charcter column\n",
        "credit[\"character\"] = credit[\"character\"].str.replace(\"(voice)\", \"\", regex=False)\n",
        "# check the first 10 rows of the 'voice_rows' DataFrame to verify that  voice has been removed and appended to the character column\n",
        "voice_rows = credit.loc[credit[\"role\"].str.contains(\"(voice)\", regex=False)]\n",
        "print(voice_rows.head(10))"
      ]
    },
    {
      "cell_type": "code",
      "execution_count": null,
      "id": "cda9947f-b171-4a3f-a354-a898e8886d1b",
      "metadata": {
        "id": "cda9947f-b171-4a3f-a354-a898e8886d1b",
        "outputId": "8625b55c-9d67-472f-e00a-89866a4374a8"
      },
      "outputs": [
        {
          "name": "stdout",
          "output_type": "stream",
          "text": [
            "<class 'pandas.core.frame.DataFrame'>\n",
            "Int64Index: 132094 entries, 0 to 140552\n",
            "Data columns (total 5 columns):\n",
            " #   Column     Non-Null Count   Dtype \n",
            "---  ------     --------------   ----- \n",
            " 0   id         132094 non-null  int64 \n",
            " 1   title_id   132094 non-null  object\n",
            " 2   name       132094 non-null  object\n",
            " 3   character  132094 non-null  object\n",
            " 4   role       132094 non-null  object\n",
            "dtypes: int64(1), object(4)\n",
            "memory usage: 6.0+ MB\n"
          ]
        }
      ],
      "source": [
        "credit.info()"
      ]
    },
    {
      "cell_type": "markdown",
      "id": "8f609fd2-76ee-4608-bfa5-deeacfbea0b0",
      "metadata": {
        "id": "8f609fd2-76ee-4608-bfa5-deeacfbea0b0"
      },
      "source": [
        "#### Clean the title csv"
      ]
    },
    {
      "cell_type": "code",
      "execution_count": null,
      "id": "3be2cd01-389e-4802-a8a2-44b02e626f01",
      "metadata": {
        "id": "3be2cd01-389e-4802-a8a2-44b02e626f01",
        "outputId": "d76dd194-c177-44c0-c52c-3eac60ec8186"
      },
      "outputs": [
        {
          "data": {
            "text/html": [
              "<div>\n",
              "<style scoped>\n",
              "    .dataframe tbody tr th:only-of-type {\n",
              "        vertical-align: middle;\n",
              "    }\n",
              "\n",
              "    .dataframe tbody tr th {\n",
              "        vertical-align: top;\n",
              "    }\n",
              "\n",
              "    .dataframe thead th {\n",
              "        text-align: right;\n",
              "    }\n",
              "</style>\n",
              "<table border=\"1\" class=\"dataframe\">\n",
              "  <thead>\n",
              "    <tr style=\"text-align: right;\">\n",
              "      <th></th>\n",
              "      <th>id</th>\n",
              "      <th>title</th>\n",
              "      <th>type</th>\n",
              "      <th>description</th>\n",
              "      <th>release_year</th>\n",
              "      <th>age_certification</th>\n",
              "      <th>runtime</th>\n",
              "      <th>genres</th>\n",
              "      <th>production_countries</th>\n",
              "      <th>seasons</th>\n",
              "      <th>imdb_id</th>\n",
              "      <th>imdb_score</th>\n",
              "      <th>imdb_votes</th>\n",
              "      <th>tmdb_popularity</th>\n",
              "      <th>tmdb_score</th>\n",
              "    </tr>\n",
              "  </thead>\n",
              "  <tbody>\n",
              "    <tr>\n",
              "      <th>0</th>\n",
              "      <td>tm87233</td>\n",
              "      <td>It's a Wonderful Life</td>\n",
              "      <td>MOVIE</td>\n",
              "      <td>A holiday favourite for generations...  George Bailey has spent his entire life giving to the people of Bedford Falls.  All that prevents rich skinflint Mr. Potter from taking over the entire town is George's modest building and loan company.  But on Christmas Eve the business's $8,000 is lost and George's troubles begin.</td>\n",
              "      <td>1946</td>\n",
              "      <td>PG</td>\n",
              "      <td>130</td>\n",
              "      <td>['drama', 'family', 'fantasy', 'romance', 'comedy']</td>\n",
              "      <td>['US']</td>\n",
              "      <td>NaN</td>\n",
              "      <td>tt0038650</td>\n",
              "      <td>8.6</td>\n",
              "      <td>467766.0</td>\n",
              "      <td>27.611</td>\n",
              "      <td>8.261</td>\n",
              "    </tr>\n",
              "    <tr>\n",
              "      <th>1</th>\n",
              "      <td>tm143047</td>\n",
              "      <td>Duck Soup</td>\n",
              "      <td>MOVIE</td>\n",
              "      <td>Rufus T. Firefly is named president/dictator of bankrupt Freedonia and declares war on neighboring Sylvania over the love of wealthy Mrs. Teasdale.</td>\n",
              "      <td>1933</td>\n",
              "      <td>NaN</td>\n",
              "      <td>69</td>\n",
              "      <td>['comedy', 'war']</td>\n",
              "      <td>['US']</td>\n",
              "      <td>NaN</td>\n",
              "      <td>tt0023969</td>\n",
              "      <td>7.8</td>\n",
              "      <td>60933.0</td>\n",
              "      <td>9.013</td>\n",
              "      <td>7.357</td>\n",
              "    </tr>\n",
              "    <tr>\n",
              "      <th>2</th>\n",
              "      <td>tm83884</td>\n",
              "      <td>His Girl Friday</td>\n",
              "      <td>MOVIE</td>\n",
              "      <td>Hildy, the journalist former wife of newspaper editor Walter Burns, visits his office to inform him that she's engaged and will be getting remarried the next day. Walter can't let that happen and frames the fiancé, Bruce Baldwin, for one thing after another, to keep him temporarily held in prison, while trying to steer Hildy into returning to her old job as his employee.</td>\n",
              "      <td>1940</td>\n",
              "      <td>NaN</td>\n",
              "      <td>92</td>\n",
              "      <td>['drama', 'romance', 'comedy']</td>\n",
              "      <td>['US']</td>\n",
              "      <td>NaN</td>\n",
              "      <td>tt0032599</td>\n",
              "      <td>7.8</td>\n",
              "      <td>60244.0</td>\n",
              "      <td>14.759</td>\n",
              "      <td>7.433</td>\n",
              "    </tr>\n",
              "    <tr>\n",
              "      <th>3</th>\n",
              "      <td>ts20945</td>\n",
              "      <td>The Three Stooges</td>\n",
              "      <td>SHOW</td>\n",
              "      <td>The Three Stooges were an American vaudeville and comedy team active from 1922 until 1970, best known for their 190 short subject films by Columbia Pictures that have been regularly airing on television since 1958. Their hallmark was physical farce and slapstick. In films, the stooges were commonly known by their actual first names. There were a total of six stooges over the act's run (with only three active at any given time), but Moe Howard and Larry Fine were the mainstays throughout the ensemble's nearly fifty-year run.</td>\n",
              "      <td>1934</td>\n",
              "      <td>TV-PG</td>\n",
              "      <td>19</td>\n",
              "      <td>['comedy', 'family']</td>\n",
              "      <td>['US']</td>\n",
              "      <td>26.0</td>\n",
              "      <td>tt0850645</td>\n",
              "      <td>8.5</td>\n",
              "      <td>1149.0</td>\n",
              "      <td>15.424</td>\n",
              "      <td>7.600</td>\n",
              "    </tr>\n",
              "    <tr>\n",
              "      <th>4</th>\n",
              "      <td>tm5012</td>\n",
              "      <td>Red River</td>\n",
              "      <td>MOVIE</td>\n",
              "      <td>Headstrong Thomas Dunson starts a thriving Texas cattle ranch with the help of his faithful trail hand, Groot, and his protégé, Matthew Garth, an orphan Dunson took under his wing when Matt was a boy. In need of money following the Civil War, Dunson and Matt lead a cattle drive to Missouri, where they will get a better price than locally, but the crotchety older man and his willful young partner begin to butt heads on the exhausting journey.</td>\n",
              "      <td>1948</td>\n",
              "      <td>NaN</td>\n",
              "      <td>133</td>\n",
              "      <td>['western', 'drama', 'romance', 'action']</td>\n",
              "      <td>['US']</td>\n",
              "      <td>NaN</td>\n",
              "      <td>tt0040724</td>\n",
              "      <td>7.8</td>\n",
              "      <td>32210.0</td>\n",
              "      <td>12.400</td>\n",
              "      <td>7.400</td>\n",
              "    </tr>\n",
              "  </tbody>\n",
              "</table>\n",
              "</div>"
            ],
            "text/plain": [
              "         id                  title   type  \\\n",
              "0   tm87233  It's a Wonderful Life  MOVIE   \n",
              "1  tm143047              Duck Soup  MOVIE   \n",
              "2   tm83884        His Girl Friday  MOVIE   \n",
              "3   ts20945      The Three Stooges   SHOW   \n",
              "4    tm5012              Red River  MOVIE   \n",
              "\n",
              "                                                                                                                                                                                                                                                                                                                                                                                                                                                                                                                                         description  \\\n",
              "0                                                                                                                                                                                                                A holiday favourite for generations...  George Bailey has spent his entire life giving to the people of Bedford Falls.  All that prevents rich skinflint Mr. Potter from taking over the entire town is George's modest building and loan company.  But on Christmas Eve the business's $8,000 is lost and George's troubles begin.   \n",
              "1                                                                                                                                                                                                                                                                                                                                                                                                Rufus T. Firefly is named president/dictator of bankrupt Freedonia and declares war on neighboring Sylvania over the love of wealthy Mrs. Teasdale.   \n",
              "2                                                                                                                                                              Hildy, the journalist former wife of newspaper editor Walter Burns, visits his office to inform him that she's engaged and will be getting remarried the next day. Walter can't let that happen and frames the fiancé, Bruce Baldwin, for one thing after another, to keep him temporarily held in prison, while trying to steer Hildy into returning to her old job as his employee.   \n",
              "3  The Three Stooges were an American vaudeville and comedy team active from 1922 until 1970, best known for their 190 short subject films by Columbia Pictures that have been regularly airing on television since 1958. Their hallmark was physical farce and slapstick. In films, the stooges were commonly known by their actual first names. There were a total of six stooges over the act's run (with only three active at any given time), but Moe Howard and Larry Fine were the mainstays throughout the ensemble's nearly fifty-year run.   \n",
              "4                                                                                      Headstrong Thomas Dunson starts a thriving Texas cattle ranch with the help of his faithful trail hand, Groot, and his protégé, Matthew Garth, an orphan Dunson took under his wing when Matt was a boy. In need of money following the Civil War, Dunson and Matt lead a cattle drive to Missouri, where they will get a better price than locally, but the crotchety older man and his willful young partner begin to butt heads on the exhausting journey.   \n",
              "\n",
              "   release_year age_certification  runtime  \\\n",
              "0          1946                PG      130   \n",
              "1          1933               NaN       69   \n",
              "2          1940               NaN       92   \n",
              "3          1934             TV-PG       19   \n",
              "4          1948               NaN      133   \n",
              "\n",
              "                                                genres production_countries  \\\n",
              "0  ['drama', 'family', 'fantasy', 'romance', 'comedy']               ['US']   \n",
              "1                                    ['comedy', 'war']               ['US']   \n",
              "2                       ['drama', 'romance', 'comedy']               ['US']   \n",
              "3                                 ['comedy', 'family']               ['US']   \n",
              "4            ['western', 'drama', 'romance', 'action']               ['US']   \n",
              "\n",
              "   seasons    imdb_id  imdb_score  imdb_votes  tmdb_popularity  tmdb_score  \n",
              "0      NaN  tt0038650         8.6    467766.0           27.611       8.261  \n",
              "1      NaN  tt0023969         7.8     60933.0            9.013       7.357  \n",
              "2      NaN  tt0032599         7.8     60244.0           14.759       7.433  \n",
              "3     26.0  tt0850645         8.5      1149.0           15.424       7.600  \n",
              "4      NaN  tt0040724         7.8     32210.0           12.400       7.400  "
            ]
          },
          "execution_count": 15,
          "metadata": {},
          "output_type": "execute_result"
        }
      ],
      "source": [
        "title.head()"
      ]
    },
    {
      "cell_type": "code",
      "execution_count": null,
      "id": "bee80e97-d7e3-46d1-af9c-545a10bae0ab",
      "metadata": {
        "id": "bee80e97-d7e3-46d1-af9c-545a10bae0ab",
        "outputId": "73495b84-cb5c-47a3-e161-b5e897f7397c"
      },
      "outputs": [
        {
          "name": "stdout",
          "output_type": "stream",
          "text": [
            "<class 'pandas.core.frame.DataFrame'>\n",
            "RangeIndex: 10873 entries, 0 to 10872\n",
            "Data columns (total 15 columns):\n",
            " #   Column                Non-Null Count  Dtype  \n",
            "---  ------                --------------  -----  \n",
            " 0   id                    10873 non-null  object \n",
            " 1   title                 10873 non-null  object \n",
            " 2   type                  10873 non-null  object \n",
            " 3   description           10729 non-null  object \n",
            " 4   release_year          10873 non-null  int64  \n",
            " 5   age_certification     3688 non-null   object \n",
            " 6   runtime               10873 non-null  int64  \n",
            " 7   genres                10873 non-null  object \n",
            " 8   production_countries  10873 non-null  object \n",
            " 9   seasons               1551 non-null   float64\n",
            " 10  imdb_id               10172 non-null  object \n",
            " 11  imdb_score            9765 non-null   float64\n",
            " 12  imdb_votes            9753 non-null   float64\n",
            " 13  tmdb_popularity       10302 non-null  float64\n",
            " 14  tmdb_score            8747 non-null   float64\n",
            "dtypes: float64(5), int64(2), object(8)\n",
            "memory usage: 1.2+ MB\n"
          ]
        }
      ],
      "source": [
        "title.info()"
      ]
    },
    {
      "cell_type": "code",
      "execution_count": null,
      "id": "644477a9-0b25-4f1f-b649-df827a988837",
      "metadata": {
        "id": "644477a9-0b25-4f1f-b649-df827a988837",
        "outputId": "aa56897b-c9fb-4842-ad4f-9cef24c66333"
      },
      "outputs": [
        {
          "data": {
            "text/html": [
              "<div>\n",
              "<style scoped>\n",
              "    .dataframe tbody tr th:only-of-type {\n",
              "        vertical-align: middle;\n",
              "    }\n",
              "\n",
              "    .dataframe tbody tr th {\n",
              "        vertical-align: top;\n",
              "    }\n",
              "\n",
              "    .dataframe thead th {\n",
              "        text-align: right;\n",
              "    }\n",
              "</style>\n",
              "<table border=\"1\" class=\"dataframe\">\n",
              "  <thead>\n",
              "    <tr style=\"text-align: right;\">\n",
              "      <th></th>\n",
              "      <th>release_year</th>\n",
              "      <th>runtime</th>\n",
              "      <th>seasons</th>\n",
              "      <th>imdb_score</th>\n",
              "      <th>imdb_votes</th>\n",
              "      <th>tmdb_popularity</th>\n",
              "      <th>tmdb_score</th>\n",
              "    </tr>\n",
              "  </thead>\n",
              "  <tbody>\n",
              "    <tr>\n",
              "      <th>count</th>\n",
              "      <td>10873.000000</td>\n",
              "      <td>10873.000000</td>\n",
              "      <td>1551.000000</td>\n",
              "      <td>9765.000000</td>\n",
              "      <td>9.753000e+03</td>\n",
              "      <td>10302.000000</td>\n",
              "      <td>8747.000000</td>\n",
              "    </tr>\n",
              "    <tr>\n",
              "      <th>mean</th>\n",
              "      <td>2004.077807</td>\n",
              "      <td>85.869033</td>\n",
              "      <td>2.661509</td>\n",
              "      <td>5.970558</td>\n",
              "      <td>8.973232e+03</td>\n",
              "      <td>7.614083</td>\n",
              "      <td>5.977729</td>\n",
              "    </tr>\n",
              "    <tr>\n",
              "      <th>std</th>\n",
              "      <td>24.883711</td>\n",
              "      <td>34.156332</td>\n",
              "      <td>3.719633</td>\n",
              "      <td>1.362815</td>\n",
              "      <td>4.897767e+04</td>\n",
              "      <td>45.845289</td>\n",
              "      <td>1.512941</td>\n",
              "    </tr>\n",
              "    <tr>\n",
              "      <th>min</th>\n",
              "      <td>1912.000000</td>\n",
              "      <td>0.000000</td>\n",
              "      <td>1.000000</td>\n",
              "      <td>1.100000</td>\n",
              "      <td>5.000000e+00</td>\n",
              "      <td>0.000153</td>\n",
              "      <td>0.500000</td>\n",
              "    </tr>\n",
              "    <tr>\n",
              "      <th>25%</th>\n",
              "      <td>2002.000000</td>\n",
              "      <td>65.000000</td>\n",
              "      <td>1.000000</td>\n",
              "      <td>5.100000</td>\n",
              "      <td>1.190000e+02</td>\n",
              "      <td>1.327250</td>\n",
              "      <td>5.066500</td>\n",
              "    </tr>\n",
              "    <tr>\n",
              "      <th>50%</th>\n",
              "      <td>2015.000000</td>\n",
              "      <td>89.000000</td>\n",
              "      <td>1.000000</td>\n",
              "      <td>6.100000</td>\n",
              "      <td>4.880000e+02</td>\n",
              "      <td>2.658500</td>\n",
              "      <td>6.000000</td>\n",
              "    </tr>\n",
              "    <tr>\n",
              "      <th>75%</th>\n",
              "      <td>2019.000000</td>\n",
              "      <td>102.000000</td>\n",
              "      <td>3.000000</td>\n",
              "      <td>7.000000</td>\n",
              "      <td>2.493000e+03</td>\n",
              "      <td>6.185000</td>\n",
              "      <td>6.983000</td>\n",
              "    </tr>\n",
              "    <tr>\n",
              "      <th>max</th>\n",
              "      <td>2023.000000</td>\n",
              "      <td>940.000000</td>\n",
              "      <td>53.000000</td>\n",
              "      <td>9.900000</td>\n",
              "      <td>2.081757e+06</td>\n",
              "      <td>3187.531000</td>\n",
              "      <td>10.000000</td>\n",
              "    </tr>\n",
              "  </tbody>\n",
              "</table>\n",
              "</div>"
            ],
            "text/plain": [
              "       release_year       runtime      seasons   imdb_score    imdb_votes  \\\n",
              "count  10873.000000  10873.000000  1551.000000  9765.000000  9.753000e+03   \n",
              "mean    2004.077807     85.869033     2.661509     5.970558  8.973232e+03   \n",
              "std       24.883711     34.156332     3.719633     1.362815  4.897767e+04   \n",
              "min     1912.000000      0.000000     1.000000     1.100000  5.000000e+00   \n",
              "25%     2002.000000     65.000000     1.000000     5.100000  1.190000e+02   \n",
              "50%     2015.000000     89.000000     1.000000     6.100000  4.880000e+02   \n",
              "75%     2019.000000    102.000000     3.000000     7.000000  2.493000e+03   \n",
              "max     2023.000000    940.000000    53.000000     9.900000  2.081757e+06   \n",
              "\n",
              "       tmdb_popularity   tmdb_score  \n",
              "count     10302.000000  8747.000000  \n",
              "mean          7.614083     5.977729  \n",
              "std          45.845289     1.512941  \n",
              "min           0.000153     0.500000  \n",
              "25%           1.327250     5.066500  \n",
              "50%           2.658500     6.000000  \n",
              "75%           6.185000     6.983000  \n",
              "max        3187.531000    10.000000  "
            ]
          },
          "execution_count": 17,
          "metadata": {},
          "output_type": "execute_result"
        }
      ],
      "source": [
        "title.describe()"
      ]
    },
    {
      "cell_type": "code",
      "execution_count": null,
      "id": "8954cf55-97fe-4b16-8bf4-f7199d08f4cf",
      "metadata": {
        "id": "8954cf55-97fe-4b16-8bf4-f7199d08f4cf",
        "outputId": "ff9cdf72-34ee-43ff-806b-63b843b096d2"
      },
      "outputs": [
        {
          "name": "stdout",
          "output_type": "stream",
          "text": [
            "0\n"
          ]
        }
      ],
      "source": [
        "# checking for we have duplicates\n",
        "duplicate = title.duplicated().any().sum()\n",
        "print(duplicate)"
      ]
    },
    {
      "cell_type": "markdown",
      "id": "76717ac8-9a43-409a-af45-61a252ea1a3b",
      "metadata": {
        "id": "76717ac8-9a43-409a-af45-61a252ea1a3b"
      },
      "source": [
        "To easily perform exploratory data analysis the genres and production countries need to splitted into more rows. Therefore the quotes and brackets needs to be removed from them first before splitting into multiple rows"
      ]
    },
    {
      "cell_type": "code",
      "execution_count": null,
      "id": "025f76e8-3cf5-4a81-be24-a867732d8e1c",
      "metadata": {
        "id": "025f76e8-3cf5-4a81-be24-a867732d8e1c",
        "outputId": "f111f747-87ef-471e-ebb5-7fd9d48fdf9e"
      },
      "outputs": [
        {
          "data": {
            "text/html": [
              "<div>\n",
              "<style scoped>\n",
              "    .dataframe tbody tr th:only-of-type {\n",
              "        vertical-align: middle;\n",
              "    }\n",
              "\n",
              "    .dataframe tbody tr th {\n",
              "        vertical-align: top;\n",
              "    }\n",
              "\n",
              "    .dataframe thead th {\n",
              "        text-align: right;\n",
              "    }\n",
              "</style>\n",
              "<table border=\"1\" class=\"dataframe\">\n",
              "  <thead>\n",
              "    <tr style=\"text-align: right;\">\n",
              "      <th></th>\n",
              "      <th>genres</th>\n",
              "      <th>production_countries</th>\n",
              "    </tr>\n",
              "  </thead>\n",
              "  <tbody>\n",
              "    <tr>\n",
              "      <th>10718</th>\n",
              "      <td>comedy</td>\n",
              "      <td>US</td>\n",
              "    </tr>\n",
              "    <tr>\n",
              "      <th>6552</th>\n",
              "      <td>action, comedy, crime</td>\n",
              "      <td>IN</td>\n",
              "    </tr>\n",
              "    <tr>\n",
              "      <th>1860</th>\n",
              "      <td>drama</td>\n",
              "      <td>AU</td>\n",
              "    </tr>\n",
              "    <tr>\n",
              "      <th>171</th>\n",
              "      <td>drama, romance</td>\n",
              "      <td>US</td>\n",
              "    </tr>\n",
              "    <tr>\n",
              "      <th>10586</th>\n",
              "      <td>drama</td>\n",
              "      <td>GB</td>\n",
              "    </tr>\n",
              "  </tbody>\n",
              "</table>\n",
              "</div>"
            ],
            "text/plain": [
              "                      genres production_countries\n",
              "10718                 comedy                   US\n",
              "6552   action, comedy, crime                   IN\n",
              "1860                   drama                   AU\n",
              "171           drama, romance                   US\n",
              "10586                  drama                   GB"
            ]
          },
          "execution_count": 19,
          "metadata": {},
          "output_type": "execute_result"
        }
      ],
      "source": [
        "# define the translation table to remove quotes and brackets\n",
        "translation_table = str.maketrans(\"\", \"\", \"[]'\")\n",
        "\n",
        "# remove quotes and brackets from Column1 using the translation table\n",
        "title[[\"genres\", \"production_countries\"]] = title[\n",
        "    [\"genres\", \"production_countries\"]\n",
        "].apply(lambda x: x.str.translate(translation_table))\n",
        "\n",
        "# view the modified columns\n",
        "title[[\"genres\", \"production_countries\"]].sample(5)"
      ]
    },
    {
      "cell_type": "code",
      "execution_count": null,
      "id": "2f1e110b-4e60-4cff-b671-78d21dc1e36b",
      "metadata": {
        "id": "2f1e110b-4e60-4cff-b671-78d21dc1e36b"
      },
      "outputs": [],
      "source": [
        "# Split the values in the genres and production_countries columns\n",
        "title[\"genres\"] = title[\"genres\"].str.split(\", \")\n",
        "title[\"production_countries\"] = title[\"production_countries\"].str.split(\", \")\n",
        "\n",
        "# Explode the columns\n",
        "title = title.explode(\"genres\")\n",
        "title = title.explode(\"production_countries\")\n",
        "\n",
        "#  Reset the index\n",
        "title = title.reset_index(drop=True)"
      ]
    },
    {
      "cell_type": "code",
      "execution_count": null,
      "id": "4e96151a-1763-45e4-a764-c84f9d1c15cc",
      "metadata": {
        "id": "4e96151a-1763-45e4-a764-c84f9d1c15cc",
        "outputId": "ae385141-1e8d-429b-d374-0679b31afe0a"
      },
      "outputs": [
        {
          "data": {
            "text/plain": [
              "array(['drama', 'family', 'fantasy', 'romance', 'comedy', 'war',\n",
              "       'western', 'action', 'european', 'animation', 'scifi', 'horror',\n",
              "       'thriller', 'crime', 'sport', 'history', 'music', 'documentation',\n",
              "       '', 'reality'], dtype=object)"
            ]
          },
          "execution_count": 21,
          "metadata": {},
          "output_type": "execute_result"
        }
      ],
      "source": [
        "title.genres.unique()"
      ]
    },
    {
      "cell_type": "code",
      "execution_count": null,
      "id": "ba419b58-ccc7-4e7f-8356-1714444d774d",
      "metadata": {
        "id": "ba419b58-ccc7-4e7f-8356-1714444d774d",
        "outputId": "53773f3f-4e3e-414c-94ec-a55d6c3e3648"
      },
      "outputs": [
        {
          "data": {
            "text/plain": [
              "array(['US', 'GB', 'SU', 'DE', 'MX', 'CA', 'IN', '', 'SE', 'IT', 'PA',\n",
              "       'ES', 'MA', 'FR', 'HK', 'JP', 'NL', 'PR', 'IE', 'PH', 'CH', 'RO',\n",
              "       'YU', 'XC', 'LI', 'KR', 'CI', 'CO', 'TW', 'MC', 'IL', 'EG', 'RU',\n",
              "       'ZA', 'AU', 'NZ', 'AT', 'HU', 'CN', 'TR', 'PT', 'BR', 'GR', 'CL',\n",
              "       'AN', 'DK', 'CZ', 'IR', 'BE', 'FI', 'LU', 'AR', 'ID', 'VE', 'NO',\n",
              "       'BG', 'TH', 'PL', 'DO', 'AE', 'RW', 'SK', 'SZ', 'AF', 'JM', 'SG',\n",
              "       'IS', 'RS', 'BO', 'LT', 'UA', 'UY', 'QA', 'TN', 'SA', 'EC', 'KZ',\n",
              "       'NG', 'VN', 'MT', 'CF', 'GD', 'KE', 'SO', 'BD', 'CU', 'GE', 'ET',\n",
              "       'TT', 'BY', 'MY', 'PK', 'PE', 'XK', 'CR', 'PS', 'LV', 'SV', 'TC',\n",
              "       'LB', 'NP', 'MN', 'NI', 'SB', 'VU', 'AQ', 'FM', 'UZ', 'NA', 'AZ',\n",
              "       'KH', 'CM', 'EE', 'AL', 'SY', 'IQ', 'BM', 'IO', 'JO', 'SI', 'BA',\n",
              "       'HR', 'CY', 'PF', 'FJ', 'HN', 'NC', 'OM', 'MK'], dtype=object)"
            ]
          },
          "execution_count": 22,
          "metadata": {},
          "output_type": "execute_result"
        }
      ],
      "source": [
        "title.production_countries.unique()"
      ]
    },
    {
      "cell_type": "code",
      "execution_count": null,
      "id": "c30afb4c-2f4c-47d3-874a-b50f1fc93b7a",
      "metadata": {
        "id": "c30afb4c-2f4c-47d3-874a-b50f1fc93b7a",
        "outputId": "2b4e18ff-b427-4df7-c4e6-ff98ec09c2a9"
      },
      "outputs": [
        {
          "name": "stdout",
          "output_type": "stream",
          "text": [
            "id                          0\n",
            "title                       0\n",
            "type                        0\n",
            "description               173\n",
            "release_year                0\n",
            "age_certification       16785\n",
            "runtime                     0\n",
            "genres                      0\n",
            "production_countries        0\n",
            "seasons                 25247\n",
            "imdb_id                   969\n",
            "imdb_score               1539\n",
            "imdb_votes               1553\n",
            "tmdb_popularity           826\n",
            "tmdb_score               3684\n",
            "dtype: int64\n"
          ]
        }
      ],
      "source": [
        "# checking for we have missing values\n",
        "missing_values = title.isna().sum()\n",
        "print(missing_values)"
      ]
    },
    {
      "cell_type": "code",
      "execution_count": null,
      "id": "f9228704-6caa-4e02-9f9f-3be072f4fde9",
      "metadata": {
        "id": "f9228704-6caa-4e02-9f9f-3be072f4fde9",
        "outputId": "df614920-d90b-4e51-953d-694c89330add"
      },
      "outputs": [
        {
          "data": {
            "image/png": "[encoded data removed]",
            "text/plain": [
              "<Figure size 1080x720 with 3 Axes>"
            ]
          },
          "metadata": {
            "needs_background": "light"
          },
          "output_type": "display_data"
        }
      ],
      "source": [
        "# plot the missing values in title dataset with bar chart\n",
        "fig, ax = plt.subplots(figsize=(15, 10))\n",
        "ax.set_title(\"Distribution of Missing Values\", fontsize=20)\n",
        "ax.set_xlabel(\"Columns\", fontsize=14)\n",
        "ax.set_ylabel(\"Percentage non-null values\", fontsize=14)\n",
        "msno.bar(title, ax=ax, color=(0.69, 0.23, 0.42), fontsize=12)\n",
        "plt.show()"
      ]
    },
    {
      "cell_type": "markdown",
      "id": "2f97e68c-14b6-4cc9-b37a-b8b097703b19",
      "metadata": {
        "id": "2f97e68c-14b6-4cc9-b37a-b8b097703b19"
      },
      "source": [
        "From the plot above it can be seen that about 0.9 of the seasons values are missing. it can also be seen that age certification has lots of missing values. imdb id, imdb score, imdb votes, tmdb popularity and tmdb score also has missing values "
      ]
    },
    {
      "cell_type": "code",
      "execution_count": null,
      "id": "86ad316f-f208-40e9-bb1d-da2fef3adace",
      "metadata": {
        "id": "86ad316f-f208-40e9-bb1d-da2fef3adace",
        "outputId": "1462ef3e-878c-4a0b-b5a0-c29fa2909152"
      },
      "outputs": [
        {
          "data": {
            "text/plain": [
              "MOVIE    25247\n",
              "SHOW      4226\n",
              "Name: type, dtype: int64"
            ]
          },
          "execution_count": 25,
          "metadata": {},
          "output_type": "execute_result"
        }
      ],
      "source": [
        "title.type.value_counts()"
      ]
    },
    {
      "cell_type": "markdown",
      "id": "b3992206-8d56-4740-a56b-bfb1495592ea",
      "metadata": {
        "id": "b3992206-8d56-4740-a56b-bfb1495592ea"
      },
      "source": [
        "It can be seen that most of the type are  movies. More investigation needs to be carried out to find out if the missing values in the seasons column are from the movie rows as movies usually are not in seasons."
      ]
    },
    {
      "cell_type": "code",
      "execution_count": null,
      "id": "abe61529-0a71-410c-a543-4560fa9ade19",
      "metadata": {
        "id": "abe61529-0a71-410c-a543-4560fa9ade19",
        "outputId": "c2f93c46-fc9e-4f92-f090-bc3d308cb710"
      },
      "outputs": [
        {
          "data": {
            "text/plain": [
              "True"
            ]
          },
          "execution_count": 26,
          "metadata": {},
          "output_type": "execute_result"
        }
      ],
      "source": [
        "# Check to find out if movies are the missing values in seasons\n",
        "title.query(\"seasons != seasons & type == 'MOVIE'\").shape[\n",
        "    0\n",
        "] == title.seasons.isna().sum()"
      ]
    },
    {
      "cell_type": "markdown",
      "id": "4d29028b-4d8a-437b-8c24-1fe8e554c27c",
      "metadata": {
        "id": "4d29028b-4d8a-437b-8c24-1fe8e554c27c"
      },
      "source": [
        "After checking to know if the if the missing values in the seasons column are from the movie row, it can be seen that the missing values are from the movie rows. Therefore the missing values from the movie rows will be replaced with 0."
      ]
    },
    {
      "cell_type": "code",
      "execution_count": null,
      "id": "23578b9a-6e92-468c-8e5b-cbae3afc2dbc",
      "metadata": {
        "id": "23578b9a-6e92-468c-8e5b-cbae3afc2dbc"
      },
      "outputs": [],
      "source": [
        "# replace the missing values in seasons with 0\n",
        "title.seasons.fillna(0, inplace=True)"
      ]
    },
    {
      "cell_type": "code",
      "execution_count": null,
      "id": "c6c82d51-cffc-41b9-b5ce-0f624204c32d",
      "metadata": {
        "id": "c6c82d51-cffc-41b9-b5ce-0f624204c32d"
      },
      "outputs": [],
      "source": [
        "# drop description, age_certification columns\n",
        "title.drop([\"description\", \"age_certification\"], axis=1, inplace=True)"
      ]
    },
    {
      "cell_type": "code",
      "execution_count": null,
      "id": "bd5ed057-0886-46df-ae1c-e65f28d1ad78",
      "metadata": {
        "id": "bd5ed057-0886-46df-ae1c-e65f28d1ad78"
      },
      "outputs": [],
      "source": [
        "title.dropna(inplace=True)"
      ]
    },
    {
      "cell_type": "code",
      "execution_count": null,
      "id": "e278a61d-c75e-49f2-85c0-e92064b808ed",
      "metadata": {
        "id": "e278a61d-c75e-49f2-85c0-e92064b808ed",
        "outputId": "8abb25f9-7587-415b-de2a-e5e211f6de82"
      },
      "outputs": [
        {
          "name": "stdout",
          "output_type": "stream",
          "text": [
            "<class 'pandas.core.frame.DataFrame'>\n",
            "Int64Index: 24984 entries, 0 to 29469\n",
            "Data columns (total 13 columns):\n",
            " #   Column                Non-Null Count  Dtype  \n",
            "---  ------                --------------  -----  \n",
            " 0   id                    24984 non-null  object \n",
            " 1   title                 24984 non-null  object \n",
            " 2   type                  24984 non-null  object \n",
            " 3   release_year          24984 non-null  int64  \n",
            " 4   runtime               24984 non-null  int64  \n",
            " 5   genres                24984 non-null  object \n",
            " 6   production_countries  24984 non-null  object \n",
            " 7   seasons               24984 non-null  float64\n",
            " 8   imdb_id               24984 non-null  object \n",
            " 9   imdb_score            24984 non-null  float64\n",
            " 10  imdb_votes            24984 non-null  float64\n",
            " 11  tmdb_popularity       24984 non-null  float64\n",
            " 12  tmdb_score            24984 non-null  float64\n",
            "dtypes: float64(5), int64(2), object(6)\n",
            "memory usage: 2.7+ MB\n"
          ]
        }
      ],
      "source": [
        "title.info()"
      ]
    },
    {
      "cell_type": "markdown",
      "id": "3dad2bff-6cf2-4c7f-803a-97cfd0932084",
      "metadata": {
        "id": "3dad2bff-6cf2-4c7f-803a-97cfd0932084"
      },
      "source": [
        "Save the cleaned dataset into a new csv"
      ]
    },
    {
      "cell_type": "code",
      "execution_count": null,
      "id": "eac122e7-82e0-43d1-a77d-1c1f1588c9d0",
      "metadata": {
        "id": "eac122e7-82e0-43d1-a77d-1c1f1588c9d0"
      },
      "outputs": [],
      "source": [
        "credit.to_csv(\"credit.csv\", index=False)\n",
        "title.to_csv(\"title.csv\", index=False)"
      ]
    },
    {
      "cell_type": "code",
      "execution_count": null,
      "id": "61ab0dd3-6404-4781-9716-591d4092a931",
      "metadata": {
        "id": "61ab0dd3-6404-4781-9716-591d4092a931"
      },
      "outputs": [],
      "source": []
    }
  ],
  "metadata": {
    "kernelspec": {
      "display_name": "Python 3 (ipykernel)",
      "language": "python",
      "name": "python3"
    },
    "language_info": {
      "codemirror_mode": {
        "name": "ipython",
        "version": 3
      },
      "file_extension": ".py",
      "mimetype": "text/x-python",
      "name": "python",
      "nbconvert_exporter": "python",
      "pygments_lexer": "ipython3",
      "version": "3.9.7"
    },
    "colab": {
      "provenance": [],
      "include_colab_link": true
    }
  },
  "nbformat": 4,
  "nbformat_minor": 5
}